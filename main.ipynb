{
 "cells": [
  {
   "cell_type": "code",
   "execution_count": 8,
   "metadata": {},
   "outputs": [
    {
     "name": "stdout",
     "output_type": "stream",
     "text": [
      "Number of validation images: 34\n",
      "Number of train images: 135\n"
     ]
    }
   ],
   "source": [
    "import os\n",
    "\n",
    "# Lấy số lượng ảnh trong thư mục val\n",
    "val_images = os.listdir(\"dataset/images/val\")\n",
    "print(f\"Number of validation images: {len(val_images)}\")\n",
    "\n",
    "# Lấy số lượng ảnh trong thư mục train\n",
    "train_images = os.listdir(\"dataset/images/train\")\n",
    "print(f\"Number of train images: {len(train_images)}\")\n"
   ]
  },
  {
   "cell_type": "code",
   "execution_count": 10,
   "metadata": {},
   "outputs": [
    {
     "name": "stdout",
     "output_type": "stream",
     "text": [
      "^C\n"
     ]
    }
   ],
   "source": [
    "!yolo detect train model=yolov8n.pt data=dataset/data.yaml epochs=70 imgsz=640\n"
   ]
  },
  {
   "cell_type": "code",
   "execution_count": null,
   "metadata": {},
   "outputs": [],
   "source": [
    "import cv2\n",
    "from ultralytics import YOLO\n",
    "import os\n",
    "\n",
    "# Đường dẫn đến ảnh\n",
    "image_path = r\"dataset\\images\\test\\video1_frame_00015.jpg\"  # Thay đổi theo đường dẫn ảnh của bạn\n",
    "\n",
    "# Đọc ảnh\n",
    "image = cv2.imread(image_path)\n",
    "\n",
    "# Kiểm tra nếu ảnh được đọc thành công\n",
    "if image is None:\n",
    "    print(\"Không thể đọc ảnh\")\n",
    "    exit()\n",
    "\n",
    "\n",
    "# Load mô hình YOLOv8 đã huấn luyện\n",
    "model = YOLO(\"runs/detect/train5/weights/best.pt\")  # Đường dẫn tới mô hình của bạn\n",
    "\n",
    "# Phát hiện đối tượng bằng YOLO\n",
    "results = model(image)[0]\n",
    "\n",
    "# Vẽ bounding box và nhãn cho các đối tượng\n",
    "for box in results.boxes:\n",
    "    cls_id = int(box.cls[0])\n",
    "    label = model.names[cls_id]\n",
    "    conf = float(box.conf[0])\n",
    "\n",
    "    x1, y1, x2, y2 = map(int, box.xyxy[0])\n",
    "\n",
    "    # Vẽ bounding box\n",
    "    cv2.rectangle(image, (x1, y1), (x2, y2), (0, 255, 0), 2)\n",
    "\n",
    "    # Hiển thị nhãn và độ chính xác\n",
    "    label_text = f\"{label} {conf:.2f}\"\n",
    "    cv2.putText(image, label_text, (x1, y1 - 5),\n",
    "                cv2.FONT_HERSHEY_SIMPLEX, 0.5, (0, 255, 0), 1)\n",
    "\n",
    "# Hiển thị ảnh đã xử lý\n",
    "cv2.imshow(\"Processed Image\", image)\n",
    "\n",
    "# Lưu ảnh đã xử lý\n",
    "\n",
    "# Chờ phím 'q' để thoát\n",
    "cv2.waitKey(0)\n",
    "cv2.destroyAllWindows()\n"
   ]
  },
  {
   "cell_type": "code",
   "execution_count": null,
   "metadata": {},
   "outputs": [
    {
     "name": "stdout",
     "output_type": "stream",
     "text": [
      "\n",
      "0: 640x384 2 traffic_light_greens, 2 countdown_numbers, 90.9ms\n",
      "Speed: 4.2ms preprocess, 90.9ms inference, 1.1ms postprocess per image at shape (1, 3, 640, 384)\n",
      "Countdown region saved: output/countdown_images\\video1_frame_00015_countdown_0.png\n",
      "Countdown region saved: output/countdown_images\\video1_frame_00015_countdown_2.png\n",
      "\n",
      "0: 640x384 2 traffic_light_greens, 2 countdown_numbers, 58.8ms\n",
      "Speed: 3.0ms preprocess, 58.8ms inference, 1.1ms postprocess per image at shape (1, 3, 640, 384)\n",
      "Countdown region saved: output/countdown_images\\video1_frame_00039_countdown_0.png\n",
      "Countdown region saved: output/countdown_images\\video1_frame_00039_countdown_2.png\n",
      "\n",
      "0: 640x384 2 traffic_light_greens, 2 countdown_numbers, 61.2ms\n",
      "Speed: 2.4ms preprocess, 61.2ms inference, 1.0ms postprocess per image at shape (1, 3, 640, 384)\n",
      "Countdown region saved: output/countdown_images\\video1_frame_00058_countdown_1.png\n",
      "Countdown region saved: output/countdown_images\\video1_frame_00058_countdown_3.png\n",
      "\n",
      "0: 640x384 2 countdown_numbers, 2 traffic_light_reds, 66.3ms\n",
      "Speed: 1.8ms preprocess, 66.3ms inference, 0.7ms postprocess per image at shape (1, 3, 640, 384)\n",
      "Countdown region saved: output/countdown_images\\video1_frame_00065_countdown_0.png\n",
      "Countdown region saved: output/countdown_images\\video1_frame_00065_countdown_1.png\n",
      "\n",
      "0: 640x384 2 countdown_numbers, 2 traffic_light_reds, 63.4ms\n",
      "Speed: 2.6ms preprocess, 63.4ms inference, 1.0ms postprocess per image at shape (1, 3, 640, 384)\n",
      "Countdown region saved: output/countdown_images\\video1_frame_00070_countdown_0.png\n",
      "Countdown region saved: output/countdown_images\\video1_frame_00070_countdown_1.png\n",
      "\n",
      "0: 384x640 3 countdown_numbers, 3 traffic_light_reds, 64.7ms\n",
      "Speed: 2.1ms preprocess, 64.7ms inference, 1.2ms postprocess per image at shape (1, 3, 384, 640)\n",
      "Countdown region saved: output/countdown_images\\video3_frame_00001_countdown_0.png\n",
      "Countdown region saved: output/countdown_images\\video3_frame_00001_countdown_1.png\n",
      "Countdown region saved: output/countdown_images\\video3_frame_00001_countdown_3.png\n",
      "\n",
      "0: 384x640 3 countdown_numbers, 3 traffic_light_reds, 64.9ms\n",
      "Speed: 3.2ms preprocess, 64.9ms inference, 1.2ms postprocess per image at shape (1, 3, 384, 640)\n",
      "Countdown region saved: output/countdown_images\\video3_frame_00006_countdown_1.png\n",
      "Countdown region saved: output/countdown_images\\video3_frame_00006_countdown_2.png\n",
      "Countdown region saved: output/countdown_images\\video3_frame_00006_countdown_4.png\n",
      "\n",
      "0: 384x640 1 traffic_light_green, 1 countdown_number, 102.6ms\n",
      "Speed: 2.4ms preprocess, 102.6ms inference, 1.2ms postprocess per image at shape (1, 3, 384, 640)\n",
      "Countdown region saved: output/countdown_images\\video4_frame_00029_countdown_0.png\n"
     ]
    }
   ],
   "source": [
    "import cv2\n",
    "from ultralytics import YOLO\n",
    "import os\n",
    "\n",
    "# Tải mô hình YOLO đã được huấn luyện\n",
    "model = YOLO(\"runs/detect/train5/weights/best.pt\")\n",
    "image_folder = \"dataset\\images\\test\\video1_frame_00025.jpg\"  # Thư mục chứa các tệp ảnh\n",
    "image_files = sorted(os.listdir(image_folder))  # Đảm bảo ảnh được sắp xếp theo thứ tự nếu cần\n",
    "\n",
    "# Tạo thư mục để lưu ảnh countdown\n",
    "output_folder = \"output/countdown_images\"\n",
    "if not os.path.exists(output_folder):\n",
    "    os.makedirs(output_folder)\n",
    "\n",
    "# Xử lý từng tệp hình ảnh\n",
    "for image_file in image_files:\n",
    "    image_path = os.path.join(image_folder, image_file)\n",
    "\n",
    "    # Đọc ảnh\n",
    "    frame = cv2.imread(image_path)\n",
    "\n",
    "    # Phát hiện bằng YOLO\n",
    "    results = model(frame)[0]\n",
    "\n",
    "    for idx, box in enumerate(results.boxes):\n",
    "        cls_id = int(box.cls[0])\n",
    "        label = model.names[cls_id]\n",
    "\n",
    "        x1, y1, x2, y2 = map(int, box.xyxy[0])\n",
    "\n",
    "        # Nếu là vùng countdown thì cắt và lưu ảnh\n",
    "        if label == \"countdown_number\":\n",
    "            roi = frame[y1:y2, x1:x2]  # Cắt vùng countdown\n",
    "\n",
    "            # Tạo tên tệp cho ảnh countdown\n",
    "            output_image_path = os.path.join(output_folder, f\"{os.path.splitext(image_file)[0]}_countdown_{idx}.png\")\n",
    "            \n",
    "            # Lưu ảnh cắt ra\n",
    "            cv2.imwrite(output_image_path, roi)\n",
    "\n",
    "            # Hiển thị thông báo\n",
    "            print(f\"Countdown region saved: {output_image_path}\")\n",
    "\n"
   ]
  },
  {
   "cell_type": "code",
   "execution_count": null,
   "metadata": {},
   "outputs": [],
   "source": []
  }
 ],
 "metadata": {
  "kernelspec": {
   "display_name": "myenv",
   "language": "python",
   "name": "python3"
  },
  "language_info": {
   "codemirror_mode": {
    "name": "ipython",
    "version": 3
   },
   "file_extension": ".py",
   "mimetype": "text/x-python",
   "name": "python",
   "nbconvert_exporter": "python",
   "pygments_lexer": "ipython3",
   "version": "3.10.8"
  }
 },
 "nbformat": 4,
 "nbformat_minor": 2
}
